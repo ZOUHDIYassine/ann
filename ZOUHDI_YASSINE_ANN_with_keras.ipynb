{
  "cells": [
    {
      "cell_type": "markdown",
      "metadata": {
        "id": "i4InHaqrPmW3"
      },
      "source": [
        "# Artificial Neural Networks with Keras"
      ]
    },
    {
      "cell_type": "markdown",
      "metadata": {
        "id": "7WWz0d2oPmW6"
      },
      "source": [
        "<table align=\"left\">\n",
        "  <td>\n",
        "    <a target=\"_blank\" href=\"https://colab.research.google.com/github/AbdelMahm/INPT-2020/blob/master/Notebooks_DL/ANN_with_keras.ipynb\"><img src=\"https://colab.research.google.com/img/colab_favicon_256px.png\" />Run in Google Colab</a>\n",
        "  </td>\n",
        "</table>"
      ]
    },
    {
      "cell_type": "markdown",
      "metadata": {
        "id": "TDOCuObrPmW7"
      },
      "source": [
        "# Setup"
      ]
    },
    {
      "cell_type": "code",
      "execution_count": 1,
      "metadata": {
        "id": "9yhxo0ITPmW8"
      },
      "outputs": [],
      "source": [
        "#Firstly, let's import a few common modules, ensure MatplotLib plots figures inline and prepare a function to save the figures. We also check that Python 3.5 or later is installed (although Python 2.x may work, it is deprecated so we strongly recommend you use Python 3 instead), as well as Scikit-Learn ≥0.20 and TensorFlow ≥2.0."
      ]
    },
    {
      "cell_type": "code",
      "execution_count": 2,
      "metadata": {
        "id": "ilzToCJqPmW-"
      },
      "outputs": [],
      "source": [
        "# TensorFlow ≥2.0 is required\n",
        "import tensorflow as tf\n",
        "\n",
        "# Common imports\n",
        "import numpy as np\n",
        "import os\n",
        "\n",
        "# to make this notebook's output stable across runs\n",
        "np.random.seed(42)\n",
        "\n",
        "# To plot pretty figures\n",
        "%matplotlib inline\n",
        "import matplotlib as mpl\n",
        "import matplotlib.pyplot as plt\n",
        "mpl.rc('axes', labelsize=14)\n",
        "mpl.rc('xtick', labelsize=12)\n",
        "mpl.rc('ytick', labelsize=12)\n",
        "\n",
        "# Ignore useless warnings (see SciPy issue #5998)\n",
        "import warnings\n",
        "warnings.filterwarnings(action=\"ignore\", message=\"^internal gelsd\")"
      ]
    },
    {
      "cell_type": "markdown",
      "metadata": {
        "id": "sfibmNvkPmW_"
      },
      "source": [
        "# Building an Image Classifier"
      ]
    },
    {
      "cell_type": "markdown",
      "metadata": {
        "id": "FmOt9DNcPmXA"
      },
      "source": [
        "First let's import TensorFlow and Keras."
      ]
    },
    {
      "cell_type": "code",
      "execution_count": 3,
      "metadata": {
        "collapsed": true,
        "id": "QMqj8SojPmXB"
      },
      "outputs": [],
      "source": [
        "import tensorflow as tf\n",
        "from tensorflow import keras"
      ]
    },
    {
      "cell_type": "code",
      "execution_count": 4,
      "metadata": {
        "id": "lJsypqX0PmXC",
        "outputId": "4070472f-cd82-4f9a-8207-771d0488621c",
        "colab": {
          "base_uri": "https://localhost:8080/",
          "height": 35
        }
      },
      "outputs": [
        {
          "output_type": "execute_result",
          "data": {
            "text/plain": [
              "'2.8.0'"
            ],
            "application/vnd.google.colaboratory.intrinsic+json": {
              "type": "string"
            }
          },
          "metadata": {},
          "execution_count": 4
        }
      ],
      "source": [
        "tf.__version__"
      ]
    },
    {
      "cell_type": "markdown",
      "metadata": {
        "id": "1mog_fTkPmXC"
      },
      "source": [
        "Let's start by loading the fashion MNIST dataset. Keras has a number of functions to load popular datasets in `keras.datasets`. The dataset is already split for you between a training set and a test set, but it can be useful to split the training set further to have a validation set:"
      ]
    },
    {
      "cell_type": "code",
      "execution_count": 5,
      "metadata": {
        "collapsed": true,
        "id": "esmcRhVZPmXD",
        "outputId": "4e2eb584-847d-4d40-e752-1036349e9475",
        "colab": {
          "base_uri": "https://localhost:8080/"
        }
      },
      "outputs": [
        {
          "output_type": "stream",
          "name": "stdout",
          "text": [
            "Downloading data from https://storage.googleapis.com/tensorflow/tf-keras-datasets/train-labels-idx1-ubyte.gz\n",
            "32768/29515 [=================================] - 0s 0us/step\n",
            "40960/29515 [=========================================] - 0s 0us/step\n",
            "Downloading data from https://storage.googleapis.com/tensorflow/tf-keras-datasets/train-images-idx3-ubyte.gz\n",
            "26427392/26421880 [==============================] - 0s 0us/step\n",
            "26435584/26421880 [==============================] - 0s 0us/step\n",
            "Downloading data from https://storage.googleapis.com/tensorflow/tf-keras-datasets/t10k-labels-idx1-ubyte.gz\n",
            "16384/5148 [===============================================================================================] - 0s 0us/step\n",
            "Downloading data from https://storage.googleapis.com/tensorflow/tf-keras-datasets/t10k-images-idx3-ubyte.gz\n",
            "4423680/4422102 [==============================] - 0s 0us/step\n",
            "4431872/4422102 [==============================] - 0s 0us/step\n"
          ]
        }
      ],
      "source": [
        "fashion_mnist = keras.datasets.fashion_mnist\n",
        "(X_train_full, y_train_full), (X_test, y_test) = fashion_mnist.load_data()"
      ]
    },
    {
      "cell_type": "markdown",
      "metadata": {
        "id": "BK4XqhPcPmXE"
      },
      "source": [
        "The training set contains 60,000 grayscale images, each 28x28 pixels:"
      ]
    },
    {
      "cell_type": "code",
      "execution_count": 6,
      "metadata": {
        "id": "MK1BumL6PmXF",
        "outputId": "15d4d828-6ce0-447f-acdb-288232988941",
        "colab": {
          "base_uri": "https://localhost:8080/"
        }
      },
      "outputs": [
        {
          "output_type": "execute_result",
          "data": {
            "text/plain": [
              "(60000, 28, 28)"
            ]
          },
          "metadata": {},
          "execution_count": 6
        }
      ],
      "source": [
        "X_train_full.shape"
      ]
    },
    {
      "cell_type": "markdown",
      "metadata": {
        "id": "K26Cy2G1PmXF"
      },
      "source": [
        "Each pixel intensity is represented as a byte (0 to 255):"
      ]
    },
    {
      "cell_type": "code",
      "execution_count": 7,
      "metadata": {
        "id": "kH81hAbyPmXF",
        "outputId": "437008c3-479c-4ded-d940-91e84bec95de",
        "colab": {
          "base_uri": "https://localhost:8080/"
        }
      },
      "outputs": [
        {
          "output_type": "execute_result",
          "data": {
            "text/plain": [
              "dtype('uint8')"
            ]
          },
          "metadata": {},
          "execution_count": 7
        }
      ],
      "source": [
        "X_train_full.dtype"
      ]
    },
    {
      "cell_type": "markdown",
      "metadata": {
        "id": "QqzjGxDbPmXG"
      },
      "source": [
        "Let's split the full training set into a validation set and a (smaller) training set. We also scale the pixel intensities down to the 0-1 range and convert them to floats, by dividing by 255."
      ]
    },
    {
      "cell_type": "code",
      "execution_count": 8,
      "metadata": {
        "collapsed": true,
        "id": "JQ5HzWB_PmXG"
      },
      "outputs": [],
      "source": [
        "X_valid, X_train = X_train_full[:5000] / 255., X_train_full[5000:] / 255.\n",
        "y_valid, y_train = y_train_full[:5000], y_train_full[5000:]\n",
        "X_test = X_test / 255."
      ]
    },
    {
      "cell_type": "markdown",
      "metadata": {
        "id": "hIsIdKSCPmXH"
      },
      "source": [
        "You can plot an image using Matplotlib's `imshow()` function, with a `'binary'`\n",
        " color map:"
      ]
    },
    {
      "cell_type": "code",
      "execution_count": 9,
      "metadata": {
        "id": "_rUIRFZrPmXH",
        "outputId": "bb520402-7958-4500-fd43-4d50d2db5c37",
        "colab": {
          "base_uri": "https://localhost:8080/",
          "height": 248
        }
      },
      "outputs": [
        {
          "output_type": "display_data",
          "data": {
            "text/plain": [
              "<Figure size 432x288 with 1 Axes>"
            ],
            "image/png": "[encoded data removed]"
          },
          "metadata": {
            "needs_background": "light"
          }
        }
      ],
      "source": [
        "plt.imshow(X_train[0], cmap=\"binary\")\n",
        "plt.axis('off')\n",
        "plt.show()"
      ]
    },
    {
      "cell_type": "markdown",
      "metadata": {
        "id": "0p16l4UpPmXH"
      },
      "source": [
        "The labels are the class IDs (represented as uint8), from 0 to 9:"
      ]
    },
    {
      "cell_type": "code",
      "execution_count": 10,
      "metadata": {
        "id": "yqlhBV6yPmXI",
        "outputId": "7d5879ae-11b6-4d2b-92f1-3238d768e1db",
        "colab": {
          "base_uri": "https://localhost:8080/"
        }
      },
      "outputs": [
        {
          "output_type": "execute_result",
          "data": {
            "text/plain": [
              "array([4, 0, 7, ..., 3, 0, 5], dtype=uint8)"
            ]
          },
          "metadata": {},
          "execution_count": 10
        }
      ],
      "source": [
        "y_train"
      ]
    },
    {
      "cell_type": "markdown",
      "metadata": {
        "id": "Xm1Wk9UnPmXI"
      },
      "source": [
        "Here are the corresponding class names:"
      ]
    },
    {
      "cell_type": "code",
      "execution_count": 11,
      "metadata": {
        "collapsed": true,
        "id": "vC47iPe3PmXI"
      },
      "outputs": [],
      "source": [
        "class_names = [\"T-shirt/top\", \"Trouser\", \"Pullover\", \"Dress\", \"Coat\",\n",
        "               \"Sandal\", \"Shirt\", \"Sneaker\", \"Bag\", \"Ankle boot\"]"
      ]
    },
    {
      "cell_type": "markdown",
      "metadata": {
        "id": "LsqH1qXWPmXJ"
      },
      "source": [
        "So the first image in the training set is a coat:"
      ]
    },
    {
      "cell_type": "code",
      "execution_count": 12,
      "metadata": {
        "id": "tcPjdybBPmXJ",
        "outputId": "417f0273-3a0f-49d0-e12e-aa880b42df51",
        "colab": {
          "base_uri": "https://localhost:8080/",
          "height": 35
        }
      },
      "outputs": [
        {
          "output_type": "execute_result",
          "data": {
            "text/plain": [
              "'Coat'"
            ],
            "application/vnd.google.colaboratory.intrinsic+json": {
              "type": "string"
            }
          },
          "metadata": {},
          "execution_count": 12
        }
      ],
      "source": [
        "class_names[y_train[0]]"
      ]
    },
    {
      "cell_type": "markdown",
      "metadata": {
        "id": "kmKswGmlPmXJ"
      },
      "source": [
        "The validation set contains 5,000 images, and the test set contains 10,000 images:"
      ]
    },
    {
      "cell_type": "code",
      "execution_count": 13,
      "metadata": {
        "id": "obJBNjLIPmXK",
        "outputId": "b0f05732-584f-4042-dc86-b43a079a62f7",
        "colab": {
          "base_uri": "https://localhost:8080/"
        }
      },
      "outputs": [
        {
          "output_type": "execute_result",
          "data": {
            "text/plain": [
              "(5000, 28, 28)"
            ]
          },
          "metadata": {},
          "execution_count": 13
        }
      ],
      "source": [
        "X_valid.shape"
      ]
    },
    {
      "cell_type": "code",
      "execution_count": 14,
      "metadata": {
        "id": "pvchMj0nPmXK",
        "outputId": "66b7aa23-c965-4a30-f12c-9b7928f9aa16",
        "colab": {
          "base_uri": "https://localhost:8080/"
        }
      },
      "outputs": [
        {
          "output_type": "execute_result",
          "data": {
            "text/plain": [
              "(10000, 28, 28)"
            ]
          },
          "metadata": {},
          "execution_count": 14
        }
      ],
      "source": [
        "X_test.shape"
      ]
    },
    {
      "cell_type": "markdown",
      "metadata": {
        "id": "vXoHYtyfPmXK"
      },
      "source": [
        "Let's take a look at a sample of the images in the dataset:"
      ]
    },
    {
      "cell_type": "code",
      "execution_count": 15,
      "metadata": {
        "id": "WmBIIeINPmXL",
        "outputId": "145b0919-4b23-4995-bfe7-0134005ea8b8",
        "colab": {
          "base_uri": "https://localhost:8080/",
          "height": 308
        }
      },
      "outputs": [
        {
          "output_type": "display_data",
          "data": {
            "text/plain": [
              "<Figure size 864x345.6 with 40 Axes>"
            ],
            "image/png": "[encoded data removed]"
          },
          "metadata": {
            "needs_background": "light"
          }
        }
      ],
      "source": [
        "n_rows = 4\n",
        "n_cols = 10\n",
        "plt.figure(figsize=(n_cols * 1.2, n_rows * 1.2))\n",
        "for row in range(n_rows):\n",
        "    for col in range(n_cols):\n",
        "        index = n_cols * row + col\n",
        "        plt.subplot(n_rows, n_cols, index + 1)\n",
        "        plt.imshow(X_train[index], cmap=\"binary\", interpolation=\"nearest\")\n",
        "        plt.axis('off')\n",
        "        plt.title(class_names[y_train[index]], fontsize=12)\n",
        "plt.subplots_adjust(wspace=0.2, hspace=0.5)\n",
        "plt.show()"
      ]
    },
    {
      "cell_type": "markdown",
      "metadata": {
        "id": "wQd9LaFPPmXL"
      },
      "source": [
        "## Construct a Model"
      ]
    },
    {
      "cell_type": "code",
      "execution_count": 16,
      "metadata": {
        "collapsed": true,
        "id": "Und-7AK4PmXL"
      },
      "outputs": [],
      "source": [
        "model = keras.models.Sequential()\n",
        "model.add(keras.layers.Flatten(input_shape=[28, 28]))\n",
        "model.add(keras.layers.Dense(300, activation=\"relu\"))\n",
        "model.add(keras.layers.Dense(100, activation=\"relu\"))\n",
        "model.add(keras.layers.Dense(10, activation=\"softmax\"))"
      ]
    },
    {
      "cell_type": "code",
      "execution_count": 17,
      "metadata": {
        "collapsed": true,
        "id": "eoZGV2xyPmXL"
      },
      "outputs": [],
      "source": [
        "keras.backend.clear_session()\n",
        "np.random.seed(42)"
      ]
    },
    {
      "cell_type": "markdown",
      "metadata": {
        "id": "5YIsGyOKPmXL"
      },
      "source": [
        "### or using the folowing method"
      ]
    },
    {
      "cell_type": "code",
      "execution_count": 18,
      "metadata": {
        "collapsed": true,
        "id": "FdSPMnXzPmXM"
      },
      "outputs": [],
      "source": [
        "model = keras.models.Sequential([\n",
        "    keras.layers.Flatten(input_shape=[28, 28]),\n",
        "    keras.layers.Dense(300, activation=\"relu\"),\n",
        "    keras.layers.Dense(100, activation=\"relu\"),\n",
        "    keras.layers.Dense(10, activation=\"softmax\")\n",
        "])"
      ]
    },
    {
      "cell_type": "code",
      "execution_count": 19,
      "metadata": {
        "id": "y5pOPlgWPmXM",
        "outputId": "feae5a84-70b2-421b-97c8-09407f92909d",
        "colab": {
          "base_uri": "https://localhost:8080/"
        }
      },
      "outputs": [
        {
          "output_type": "execute_result",
          "data": {
            "text/plain": [
              "[<keras.layers.core.flatten.Flatten at 0x7f8b683b88d0>,\n",
              " <keras.layers.core.dense.Dense at 0x7f8b683b8550>,\n",
              " <keras.layers.core.dense.Dense at 0x7f8b6845b410>,\n",
              " <keras.layers.core.dense.Dense at 0x7f8b6845b090>]"
            ]
          },
          "metadata": {},
          "execution_count": 19
        }
      ],
      "source": [
        "model.layers"
      ]
    },
    {
      "cell_type": "code",
      "execution_count": 20,
      "metadata": {
        "id": "zkiDgzEHPmXM",
        "outputId": "98dfb210-017e-427e-b4ae-c649dc6ed355",
        "colab": {
          "base_uri": "https://localhost:8080/"
        }
      },
      "outputs": [
        {
          "output_type": "stream",
          "name": "stdout",
          "text": [
            "Model: \"sequential\"\n",
            "_________________________________________________________________\n",
            " Layer (type)                Output Shape              Param #   \n",
            "=================================================================\n",
            " flatten (Flatten)           (None, 784)               0         \n",
            "                                                                 \n",
            " dense (Dense)               (None, 300)               235500    \n",
            "                                                                 \n",
            " dense_1 (Dense)             (None, 100)               30100     \n",
            "                                                                 \n",
            " dense_2 (Dense)             (None, 10)                1010      \n",
            "                                                                 \n",
            "=================================================================\n",
            "Total params: 266,610\n",
            "Trainable params: 266,610\n",
            "Non-trainable params: 0\n",
            "_________________________________________________________________\n"
          ]
        }
      ],
      "source": [
        "model.summary()"
      ]
    },
    {
      "cell_type": "code",
      "execution_count": 21,
      "metadata": {
        "collapsed": true,
        "id": "AHVlbl3cPmXN"
      },
      "outputs": [],
      "source": [
        "#keras.utils.plot_model(model, \"my_mnist_model.png\", show_shapes=True)"
      ]
    },
    {
      "cell_type": "code",
      "execution_count": 22,
      "metadata": {
        "id": "XBLXOdBWPmXN",
        "outputId": "f1498a0a-278f-45f5-991d-34416b4bcc4f",
        "colab": {
          "base_uri": "https://localhost:8080/",
          "height": 35
        }
      },
      "outputs": [
        {
          "output_type": "execute_result",
          "data": {
            "text/plain": [
              "'dense'"
            ],
            "application/vnd.google.colaboratory.intrinsic+json": {
              "type": "string"
            }
          },
          "metadata": {},
          "execution_count": 22
        }
      ],
      "source": [
        "hidden1 = model.layers[1]\n",
        "hidden1.name"
      ]
    },
    {
      "cell_type": "code",
      "execution_count": 23,
      "metadata": {
        "id": "QXfVE-ECPmXN",
        "outputId": "5dbd412e-ca9c-4b43-a48b-7015e50c65c9",
        "colab": {
          "base_uri": "https://localhost:8080/"
        }
      },
      "outputs": [
        {
          "output_type": "execute_result",
          "data": {
            "text/plain": [
              "True"
            ]
          },
          "metadata": {},
          "execution_count": 23
        }
      ],
      "source": [
        "model.get_layer(hidden1.name) is hidden1"
      ]
    },
    {
      "cell_type": "code",
      "execution_count": 24,
      "metadata": {
        "collapsed": true,
        "id": "nuWREhz4PmXO"
      },
      "outputs": [],
      "source": [
        "weights, biases = hidden1.get_weights()"
      ]
    },
    {
      "cell_type": "code",
      "execution_count": 25,
      "metadata": {
        "id": "OrCVMClHPmXO",
        "outputId": "6d2c8aa6-2c35-4722-f182-44d7b406c3d9",
        "colab": {
          "base_uri": "https://localhost:8080/"
        }
      },
      "outputs": [
        {
          "output_type": "execute_result",
          "data": {
            "text/plain": [
              "array([[-0.07255511,  0.0507618 ,  0.03071549, ...,  0.04802767,\n",
              "        -0.05636599,  0.0133121 ],\n",
              "       [-0.04719896, -0.074391  , -0.04211502, ..., -0.03675021,\n",
              "        -0.05195545, -0.06743024],\n",
              "       [ 0.00759251, -0.03415599, -0.05999123, ...,  0.03989045,\n",
              "         0.05392541,  0.01411936],\n",
              "       ...,\n",
              "       [-0.00995574, -0.06943855,  0.05617529, ..., -0.05884886,\n",
              "        -0.02089528, -0.06708799],\n",
              "       [ 0.02242902,  0.00773071,  0.02682208, ..., -0.03222459,\n",
              "         0.01270018, -0.07069907],\n",
              "       [-0.067333  , -0.04389411, -0.02783823, ..., -0.01432415,\n",
              "        -0.07233525, -0.06626467]], dtype=float32)"
            ]
          },
          "metadata": {},
          "execution_count": 25
        }
      ],
      "source": [
        "weights"
      ]
    },
    {
      "cell_type": "code",
      "execution_count": 26,
      "metadata": {
        "id": "dfVZmBDHPmXO",
        "outputId": "52b72e30-b0ba-4608-b684-10b5b583eba8",
        "colab": {
          "base_uri": "https://localhost:8080/"
        }
      },
      "outputs": [
        {
          "output_type": "execute_result",
          "data": {
            "text/plain": [
              "(784, 300)"
            ]
          },
          "metadata": {},
          "execution_count": 26
        }
      ],
      "source": [
        "weights.shape"
      ]
    },
    {
      "cell_type": "code",
      "execution_count": 27,
      "metadata": {
        "id": "eqc5_n7fPmXO",
        "outputId": "e8eb7cc2-307d-4e84-c914-9b514adf77e2",
        "colab": {
          "base_uri": "https://localhost:8080/"
        }
      },
      "outputs": [
        {
          "output_type": "execute_result",
          "data": {
            "text/plain": [
              "array([0., 0., 0., 0., 0., 0., 0., 0., 0., 0., 0., 0., 0., 0., 0., 0., 0.,\n",
              "       0., 0., 0., 0., 0., 0., 0., 0., 0., 0., 0., 0., 0., 0., 0., 0., 0.,\n",
              "       0., 0., 0., 0., 0., 0., 0., 0., 0., 0., 0., 0., 0., 0., 0., 0., 0.,\n",
              "       0., 0., 0., 0., 0., 0., 0., 0., 0., 0., 0., 0., 0., 0., 0., 0., 0.,\n",
              "       0., 0., 0., 0., 0., 0., 0., 0., 0., 0., 0., 0., 0., 0., 0., 0., 0.,\n",
              "       0., 0., 0., 0., 0., 0., 0., 0., 0., 0., 0., 0., 0., 0., 0., 0., 0.,\n",
              "       0., 0., 0., 0., 0., 0., 0., 0., 0., 0., 0., 0., 0., 0., 0., 0., 0.,\n",
              "       0., 0., 0., 0., 0., 0., 0., 0., 0., 0., 0., 0., 0., 0., 0., 0., 0.,\n",
              "       0., 0., 0., 0., 0., 0., 0., 0., 0., 0., 0., 0., 0., 0., 0., 0., 0.,\n",
              "       0., 0., 0., 0., 0., 0., 0., 0., 0., 0., 0., 0., 0., 0., 0., 0., 0.,\n",
              "       0., 0., 0., 0., 0., 0., 0., 0., 0., 0., 0., 0., 0., 0., 0., 0., 0.,\n",
              "       0., 0., 0., 0., 0., 0., 0., 0., 0., 0., 0., 0., 0., 0., 0., 0., 0.,\n",
              "       0., 0., 0., 0., 0., 0., 0., 0., 0., 0., 0., 0., 0., 0., 0., 0., 0.,\n",
              "       0., 0., 0., 0., 0., 0., 0., 0., 0., 0., 0., 0., 0., 0., 0., 0., 0.,\n",
              "       0., 0., 0., 0., 0., 0., 0., 0., 0., 0., 0., 0., 0., 0., 0., 0., 0.,\n",
              "       0., 0., 0., 0., 0., 0., 0., 0., 0., 0., 0., 0., 0., 0., 0., 0., 0.,\n",
              "       0., 0., 0., 0., 0., 0., 0., 0., 0., 0., 0., 0., 0., 0., 0., 0., 0.,\n",
              "       0., 0., 0., 0., 0., 0., 0., 0., 0., 0., 0.], dtype=float32)"
            ]
          },
          "metadata": {},
          "execution_count": 27
        }
      ],
      "source": [
        "biases"
      ]
    },
    {
      "cell_type": "code",
      "execution_count": 28,
      "metadata": {
        "id": "EToeBx2WPmXP",
        "outputId": "ee4d2d36-729c-45c9-b7f0-03774acb90bc",
        "colab": {
          "base_uri": "https://localhost:8080/"
        }
      },
      "outputs": [
        {
          "output_type": "execute_result",
          "data": {
            "text/plain": [
              "(300,)"
            ]
          },
          "metadata": {},
          "execution_count": 28
        }
      ],
      "source": [
        "biases.shape"
      ]
    },
    {
      "cell_type": "markdown",
      "metadata": {
        "id": "UnbX8mHpPmXP"
      },
      "source": [
        "### Compile the Model\n",
        "Here you can chose the loss function, the optimizer, the performance metric, etc. check Keras documentation for further details."
      ]
    },
    {
      "cell_type": "code",
      "execution_count": 29,
      "metadata": {
        "collapsed": true,
        "id": "s0uFjtdgPmXP"
      },
      "outputs": [],
      "source": [
        "model.compile(loss=\"sparse_categorical_crossentropy\",\n",
        "              optimizer=\"sgd\",\n",
        "              metrics=[\"accuracy\"])"
      ]
    },
    {
      "cell_type": "markdown",
      "metadata": {
        "id": "w4Ce0GNUPmXP"
      },
      "source": [
        "This is equivalent to:"
      ]
    },
    {
      "cell_type": "markdown",
      "metadata": {
        "id": "zCTRPxUTPmXP"
      },
      "source": [
        "```python\n",
        "model.compile(loss=keras.losses.sparse_categorical_crossentropy,\n",
        "              optimizer=keras.optimizers.SGD(),\n",
        "              metrics=[keras.metrics.sparse_categorical_accuracy])\n",
        "```"
      ]
    },
    {
      "cell_type": "markdown",
      "metadata": {
        "id": "kPfGsrpAPmXQ"
      },
      "source": [
        "### Train the model\n",
        "Here you can chose how many epochs you need and the batch size."
      ]
    },
    {
      "cell_type": "code",
      "execution_count": 30,
      "metadata": {
        "id": "XViz9hElPmXQ",
        "outputId": "85648d7f-765f-4220-9b8b-91e27b0efbb6",
        "colab": {
          "base_uri": "https://localhost:8080/"
        }
      },
      "outputs": [
        {
          "output_type": "stream",
          "name": "stdout",
          "text": [
            "Epoch 1/30\n",
            "1719/1719 [==============================] - 6s 3ms/step - loss: 0.7183 - accuracy: 0.7627 - val_loss: 0.5441 - val_accuracy: 0.8078\n",
            "Epoch 2/30\n",
            "1719/1719 [==============================] - 5s 3ms/step - loss: 0.4830 - accuracy: 0.8318 - val_loss: 0.4598 - val_accuracy: 0.8428\n",
            "Epoch 3/30\n",
            "1719/1719 [==============================] - 5s 3ms/step - loss: 0.4389 - accuracy: 0.8463 - val_loss: 0.4062 - val_accuracy: 0.8622\n",
            "Epoch 4/30\n",
            "1719/1719 [==============================] - 5s 3ms/step - loss: 0.4143 - accuracy: 0.8561 - val_loss: 0.3911 - val_accuracy: 0.8676\n",
            "Epoch 5/30\n",
            "1719/1719 [==============================] - 5s 3ms/step - loss: 0.3941 - accuracy: 0.8613 - val_loss: 0.4067 - val_accuracy: 0.8618\n",
            "Epoch 6/30\n",
            "1719/1719 [==============================] - 5s 3ms/step - loss: 0.3759 - accuracy: 0.8658 - val_loss: 0.3770 - val_accuracy: 0.8666\n",
            "Epoch 7/30\n",
            "1719/1719 [==============================] - 5s 3ms/step - loss: 0.3633 - accuracy: 0.8721 - val_loss: 0.3659 - val_accuracy: 0.8706\n",
            "Epoch 8/30\n",
            "1719/1719 [==============================] - 5s 3ms/step - loss: 0.3518 - accuracy: 0.8746 - val_loss: 0.3505 - val_accuracy: 0.8780\n",
            "Epoch 9/30\n",
            "1719/1719 [==============================] - 5s 3ms/step - loss: 0.3417 - accuracy: 0.8775 - val_loss: 0.3509 - val_accuracy: 0.8708\n",
            "Epoch 10/30\n",
            "1719/1719 [==============================] - 6s 4ms/step - loss: 0.3307 - accuracy: 0.8816 - val_loss: 0.3478 - val_accuracy: 0.8736\n",
            "Epoch 11/30\n",
            "1719/1719 [==============================] - 5s 3ms/step - loss: 0.3228 - accuracy: 0.8839 - val_loss: 0.3365 - val_accuracy: 0.8816\n",
            "Epoch 12/30\n",
            "1719/1719 [==============================] - 5s 3ms/step - loss: 0.3151 - accuracy: 0.8859 - val_loss: 0.3353 - val_accuracy: 0.8800\n",
            "Epoch 13/30\n",
            "1719/1719 [==============================] - 5s 3ms/step - loss: 0.3074 - accuracy: 0.8893 - val_loss: 0.3280 - val_accuracy: 0.8810\n",
            "Epoch 14/30\n",
            "1719/1719 [==============================] - 5s 3ms/step - loss: 0.2997 - accuracy: 0.8919 - val_loss: 0.3377 - val_accuracy: 0.8800\n",
            "Epoch 15/30\n",
            "1719/1719 [==============================] - 5s 3ms/step - loss: 0.2936 - accuracy: 0.8947 - val_loss: 0.3214 - val_accuracy: 0.8838\n",
            "Epoch 16/30\n",
            "1719/1719 [==============================] - 5s 3ms/step - loss: 0.2885 - accuracy: 0.8963 - val_loss: 0.3234 - val_accuracy: 0.8846\n",
            "Epoch 17/30\n",
            "1719/1719 [==============================] - 5s 3ms/step - loss: 0.2821 - accuracy: 0.8975 - val_loss: 0.3265 - val_accuracy: 0.8880\n",
            "Epoch 18/30\n",
            "1719/1719 [==============================] - 5s 3ms/step - loss: 0.2774 - accuracy: 0.8993 - val_loss: 0.3211 - val_accuracy: 0.8822\n",
            "Epoch 19/30\n",
            "1719/1719 [==============================] - 5s 3ms/step - loss: 0.2714 - accuracy: 0.9018 - val_loss: 0.3215 - val_accuracy: 0.8866\n",
            "Epoch 20/30\n",
            "1719/1719 [==============================] - 5s 3ms/step - loss: 0.2674 - accuracy: 0.9035 - val_loss: 0.3091 - val_accuracy: 0.8920\n",
            "Epoch 21/30\n",
            "1719/1719 [==============================] - 5s 3ms/step - loss: 0.2612 - accuracy: 0.9051 - val_loss: 0.3073 - val_accuracy: 0.8904\n",
            "Epoch 22/30\n",
            "1719/1719 [==============================] - 5s 3ms/step - loss: 0.2568 - accuracy: 0.9069 - val_loss: 0.3137 - val_accuracy: 0.8902\n",
            "Epoch 23/30\n",
            "1719/1719 [==============================] - 5s 3ms/step - loss: 0.2521 - accuracy: 0.9085 - val_loss: 0.2985 - val_accuracy: 0.8902\n",
            "Epoch 24/30\n",
            "1719/1719 [==============================] - 5s 3ms/step - loss: 0.2480 - accuracy: 0.9110 - val_loss: 0.3096 - val_accuracy: 0.8884\n",
            "Epoch 25/30\n",
            "1719/1719 [==============================] - 5s 3ms/step - loss: 0.2438 - accuracy: 0.9124 - val_loss: 0.3050 - val_accuracy: 0.8908\n",
            "Epoch 26/30\n",
            "1719/1719 [==============================] - 5s 3ms/step - loss: 0.2386 - accuracy: 0.9141 - val_loss: 0.3072 - val_accuracy: 0.8930\n",
            "Epoch 27/30\n",
            "1719/1719 [==============================] - 5s 3ms/step - loss: 0.2357 - accuracy: 0.9147 - val_loss: 0.2962 - val_accuracy: 0.8962\n",
            "Epoch 28/30\n",
            "1719/1719 [==============================] - 5s 3ms/step - loss: 0.2316 - accuracy: 0.9157 - val_loss: 0.3049 - val_accuracy: 0.8902\n",
            "Epoch 29/30\n",
            "1719/1719 [==============================] - 5s 3ms/step - loss: 0.2272 - accuracy: 0.9183 - val_loss: 0.2988 - val_accuracy: 0.8950\n",
            "Epoch 30/30\n",
            "1719/1719 [==============================] - 5s 3ms/step - loss: 0.2232 - accuracy: 0.9190 - val_loss: 0.3070 - val_accuracy: 0.8884\n"
          ]
        }
      ],
      "source": [
        "history = model.fit(X_train, y_train, batch_size=32, epochs=30,\n",
        "                    validation_data=(X_valid, y_valid))"
      ]
    },
    {
      "cell_type": "code",
      "execution_count": 31,
      "metadata": {
        "id": "O_V2jhm4PmXQ",
        "outputId": "8ce1221b-3a40-4834-c60c-eda9ca9d5a0a",
        "colab": {
          "base_uri": "https://localhost:8080/"
        }
      },
      "outputs": [
        {
          "output_type": "execute_result",
          "data": {
            "text/plain": [
              "{'epochs': 30, 'steps': 1719, 'verbose': 1}"
            ]
          },
          "metadata": {},
          "execution_count": 31
        }
      ],
      "source": [
        "history.params"
      ]
    },
    {
      "cell_type": "code",
      "execution_count": 32,
      "metadata": {
        "id": "TA1al_lnPmXQ",
        "outputId": "b0b7ca91-c7b0-44e2-a49a-3c350f551ce0",
        "colab": {
          "base_uri": "https://localhost:8080/"
        }
      },
      "outputs": [
        {
          "output_type": "stream",
          "name": "stdout",
          "text": [
            "[0, 1, 2, 3, 4, 5, 6, 7, 8, 9, 10, 11, 12, 13, 14, 15, 16, 17, 18, 19, 20, 21, 22, 23, 24, 25, 26, 27, 28, 29]\n"
          ]
        }
      ],
      "source": [
        "print(history.epoch)"
      ]
    },
    {
      "cell_type": "code",
      "execution_count": 33,
      "metadata": {
        "id": "Tzil2Ms4PmXQ",
        "outputId": "e4a43c38-8fa6-4f30-e9c8-16a48bdfa2d0",
        "colab": {
          "base_uri": "https://localhost:8080/"
        }
      },
      "outputs": [
        {
          "output_type": "execute_result",
          "data": {
            "text/plain": [
              "dict_keys(['loss', 'accuracy', 'val_loss', 'val_accuracy'])"
            ]
          },
          "metadata": {},
          "execution_count": 33
        }
      ],
      "source": [
        "history.history.keys()"
      ]
    },
    {
      "cell_type": "markdown",
      "metadata": {
        "id": "zKwwqWUePmXR"
      },
      "source": [
        "### Plot learning Curves"
      ]
    },
    {
      "cell_type": "code",
      "execution_count": 34,
      "metadata": {
        "id": "FgkRJM5hPmXR",
        "outputId": "0b544da6-63b9-483e-8376-3d8ed8856963",
        "colab": {
          "base_uri": "https://localhost:8080/",
          "height": 328
        }
      },
      "outputs": [
        {
          "output_type": "display_data",
          "data": {
            "text/plain": [
              "<Figure size 576x360 with 1 Axes>"
            ],
            "image/png": "[encoded data removed]"
          },
          "metadata": {
            "needs_background": "light"
          }
        }
      ],
      "source": [
        "import pandas as pd\n",
        "\n",
        "pd.DataFrame(history.history).plot(figsize=(8, 5))\n",
        "plt.grid(True)\n",
        "plt.gca().set_ylim(0, 1)\n",
        "plt.show()"
      ]
    },
    {
      "cell_type": "code",
      "execution_count": 35,
      "metadata": {
        "id": "OmJcAKS1PmXR",
        "outputId": "18240cc3-7847-4cff-c7a7-e2bd7ea1b6cb",
        "colab": {
          "base_uri": "https://localhost:8080/"
        }
      },
      "outputs": [
        {
          "output_type": "stream",
          "name": "stdout",
          "text": [
            "313/313 [==============================] - 1s 2ms/step - loss: 0.3461 - accuracy: 0.8791\n"
          ]
        },
        {
          "output_type": "execute_result",
          "data": {
            "text/plain": [
              "[0.346142441034317, 0.8791000247001648]"
            ]
          },
          "metadata": {},
          "execution_count": 35
        }
      ],
      "source": [
        "model.evaluate(X_test, y_test)"
      ]
    },
    {
      "cell_type": "code",
      "execution_count": 36,
      "metadata": {
        "id": "znj33aLRPmXR",
        "outputId": "515a8238-5c94-4740-e7cd-4546073a5b3f",
        "colab": {
          "base_uri": "https://localhost:8080/"
        }
      },
      "outputs": [
        {
          "output_type": "execute_result",
          "data": {
            "text/plain": [
              "array([[0.  , 0.  , 0.  , 0.  , 0.  , 0.  , 0.  , 0.07, 0.  , 0.92],\n",
              "       [0.  , 0.  , 1.  , 0.  , 0.  , 0.  , 0.  , 0.  , 0.  , 0.  ],\n",
              "       [0.  , 1.  , 0.  , 0.  , 0.  , 0.  , 0.  , 0.  , 0.  , 0.  ]],\n",
              "      dtype=float32)"
            ]
          },
          "metadata": {},
          "execution_count": 36
        }
      ],
      "source": [
        "X_new = X_test[:3]\n",
        "y_proba = model.predict(X_new)\n",
        "y_proba.round(2)"
      ]
    },
    {
      "cell_type": "code",
      "execution_count": 37,
      "metadata": {
        "id": "y6vIlFOXPmXS",
        "outputId": "91b5e242-01d7-4ff5-c182-ab8871d91bcb",
        "colab": {
          "base_uri": "https://localhost:8080/",
          "height": 183
        }
      },
      "outputs": [
        {
          "output_type": "error",
          "ename": "AttributeError",
          "evalue": "ignored",
          "traceback": [
            "\u001b[0;31m---------------------------------------------------------------------------\u001b[0m",
            "\u001b[0;31mAttributeError\u001b[0m                            Traceback (most recent call last)",
            "\u001b[0;32m<ipython-input-37-81ace37e545f>\u001b[0m in \u001b[0;36m<module>\u001b[0;34m()\u001b[0m\n\u001b[0;32m----> 1\u001b[0;31m \u001b[0my_pred\u001b[0m \u001b[0;34m=\u001b[0m \u001b[0mmodel\u001b[0m\u001b[0;34m.\u001b[0m\u001b[0mpredict_classes\u001b[0m\u001b[0;34m(\u001b[0m\u001b[0mX_new\u001b[0m\u001b[0;34m)\u001b[0m\u001b[0;34m\u001b[0m\u001b[0;34m\u001b[0m\u001b[0m\n\u001b[0m\u001b[1;32m      2\u001b[0m \u001b[0my_pred\u001b[0m\u001b[0;34m\u001b[0m\u001b[0;34m\u001b[0m\u001b[0m\n",
            "\u001b[0;31mAttributeError\u001b[0m: 'Sequential' object has no attribute 'predict_classes'"
          ]
        }
      ],
      "source": [
        "y_pred = model.predict_classes(X_new)\n",
        "y_pred"
      ]
    },
    {
      "cell_type": "code",
      "execution_count": null,
      "metadata": {
        "id": "i7k_8YK8PmXS"
      },
      "outputs": [],
      "source": [
        "np.array(class_names)[y_pred]"
      ]
    },
    {
      "cell_type": "code",
      "execution_count": 39,
      "metadata": {
        "id": "TPt-PAeuPmXS",
        "colab": {
          "base_uri": "https://localhost:8080/"
        },
        "outputId": "2526c467-3926-43c4-fade-447ee6059eb2"
      },
      "outputs": [
        {
          "output_type": "execute_result",
          "data": {
            "text/plain": [
              "array([9, 2, 1], dtype=uint8)"
            ]
          },
          "metadata": {},
          "execution_count": 39
        }
      ],
      "source": [
        "y_new = y_test[:3]\n",
        "y_new"
      ]
    },
    {
      "cell_type": "code",
      "execution_count": 38,
      "metadata": {
        "id": "ixGzKbDaPmXS",
        "colab": {
          "base_uri": "https://localhost:8080/",
          "height": 165
        },
        "outputId": "8716e080-d6e1-4d65-8072-cf9bc66528f9"
      },
      "outputs": [
        {
          "output_type": "display_data",
          "data": {
            "text/plain": [
              "<Figure size 518.4x172.8 with 3 Axes>"
            ],
            "image/png": "[encoded data removed]"
          },
          "metadata": {
            "needs_background": "light"
          }
        }
      ],
      "source": [
        "plt.figure(figsize=(7.2, 2.4))\n",
        "for index, image in enumerate(X_new):\n",
        "    plt.subplot(1, 3, index + 1)\n",
        "    plt.imshow(image, cmap=\"binary\", interpolation=\"nearest\")\n",
        "    plt.axis('off')\n",
        "    plt.title(class_names[y_test[index]], fontsize=12)\n",
        "plt.subplots_adjust(wspace=0.2, hspace=0.5)\n",
        "plt.show()"
      ]
    },
    {
      "cell_type": "markdown",
      "metadata": {
        "collapsed": true,
        "id": "C4itTjZ-PmXS"
      },
      "source": [
        "## Exercise"
      ]
    },
    {
      "cell_type": "markdown",
      "metadata": {
        "id": "Y3L9TDGBPmXS"
      },
      "source": [
        "#### 1) Plot Learning curves when using different optimizers\n",
        "#### 2) Plot Learning curves when using different batch size\n",
        "#### 3) Plot Learning curves when using different number of epochs\n",
        "#### 4) Add additional neurons and use Dropout Layer. Plot Learning curves.\n",
        "#### 5) Use Batch Normalisation\n",
        "#### 6) repeat with more layers\n",
        "#### 7) apply on different datasets"
      ]
    },
    {
      "cell_type": "code",
      "execution_count": 40,
      "metadata": {
        "collapsed": true,
        "id": "zUqzZyMmPmXT",
        "outputId": "eaecfdc6-06a8-43f1-9ef0-44dda037185b",
        "colab": {
          "base_uri": "https://localhost:8080/",
          "height": 1000
        }
      },
      "outputs": [
        {
          "output_type": "stream",
          "name": "stdout",
          "text": [
            "Epoch 1/30\n",
            "1719/1719 [==============================] - 6s 3ms/step - loss: 0.3685 - accuracy: 0.8644 - val_loss: 0.3799 - val_accuracy: 0.8630\n",
            "Epoch 2/30\n",
            "1719/1719 [==============================] - 5s 3ms/step - loss: 0.3325 - accuracy: 0.8771 - val_loss: 0.3223 - val_accuracy: 0.8834\n",
            "Epoch 3/30\n",
            "1719/1719 [==============================] - 8s 5ms/step - loss: 0.3043 - accuracy: 0.8870 - val_loss: 0.3382 - val_accuracy: 0.8796\n",
            "Epoch 4/30\n",
            "1719/1719 [==============================] - 7s 4ms/step - loss: 0.2852 - accuracy: 0.8939 - val_loss: 0.2966 - val_accuracy: 0.8904\n",
            "Epoch 5/30\n",
            "1719/1719 [==============================] - 5s 3ms/step - loss: 0.2742 - accuracy: 0.8977 - val_loss: 0.3056 - val_accuracy: 0.8848\n",
            "Epoch 6/30\n",
            "1719/1719 [==============================] - 5s 3ms/step - loss: 0.2605 - accuracy: 0.9022 - val_loss: 0.3145 - val_accuracy: 0.8956\n",
            "Epoch 7/30\n",
            "1719/1719 [==============================] - 5s 3ms/step - loss: 0.2498 - accuracy: 0.9061 - val_loss: 0.3071 - val_accuracy: 0.8900\n",
            "Epoch 8/30\n",
            "1719/1719 [==============================] - 5s 3ms/step - loss: 0.2397 - accuracy: 0.9097 - val_loss: 0.3232 - val_accuracy: 0.8872\n",
            "Epoch 9/30\n",
            "1719/1719 [==============================] - 5s 3ms/step - loss: 0.2311 - accuracy: 0.9125 - val_loss: 0.3203 - val_accuracy: 0.8826\n",
            "Epoch 10/30\n",
            "1719/1719 [==============================] - 5s 3ms/step - loss: 0.2221 - accuracy: 0.9165 - val_loss: 0.3384 - val_accuracy: 0.8828\n",
            "Epoch 11/30\n",
            "1719/1719 [==============================] - 5s 3ms/step - loss: 0.2151 - accuracy: 0.9180 - val_loss: 0.3014 - val_accuracy: 0.8952\n",
            "Epoch 12/30\n",
            "1719/1719 [==============================] - 5s 3ms/step - loss: 0.2064 - accuracy: 0.9223 - val_loss: 0.3256 - val_accuracy: 0.8858\n",
            "Epoch 13/30\n",
            "1719/1719 [==============================] - 5s 3ms/step - loss: 0.1994 - accuracy: 0.9239 - val_loss: 0.3340 - val_accuracy: 0.8908\n",
            "Epoch 14/30\n",
            "1719/1719 [==============================] - 5s 3ms/step - loss: 0.1939 - accuracy: 0.9262 - val_loss: 0.3189 - val_accuracy: 0.8974\n",
            "Epoch 15/30\n",
            "1719/1719 [==============================] - 5s 3ms/step - loss: 0.1868 - accuracy: 0.9285 - val_loss: 0.3228 - val_accuracy: 0.8924\n",
            "Epoch 16/30\n",
            "1719/1719 [==============================] - 5s 3ms/step - loss: 0.1835 - accuracy: 0.9302 - val_loss: 0.3054 - val_accuracy: 0.8962\n",
            "Epoch 17/30\n",
            "1719/1719 [==============================] - 6s 3ms/step - loss: 0.1785 - accuracy: 0.9317 - val_loss: 0.3175 - val_accuracy: 0.8948\n",
            "Epoch 18/30\n",
            "1719/1719 [==============================] - 6s 3ms/step - loss: 0.1728 - accuracy: 0.9334 - val_loss: 0.3337 - val_accuracy: 0.8940\n",
            "Epoch 19/30\n",
            "1719/1719 [==============================] - 5s 3ms/step - loss: 0.1676 - accuracy: 0.9369 - val_loss: 0.3349 - val_accuracy: 0.8954\n",
            "Epoch 20/30\n",
            "1719/1719 [==============================] - 6s 3ms/step - loss: 0.1632 - accuracy: 0.9362 - val_loss: 0.3548 - val_accuracy: 0.8908\n",
            "Epoch 21/30\n",
            "1719/1719 [==============================] - 6s 3ms/step - loss: 0.1574 - accuracy: 0.9402 - val_loss: 0.3657 - val_accuracy: 0.8926\n",
            "Epoch 22/30\n",
            "1719/1719 [==============================] - 6s 3ms/step - loss: 0.1537 - accuracy: 0.9417 - val_loss: 0.3823 - val_accuracy: 0.8914\n",
            "Epoch 23/30\n",
            "1719/1719 [==============================] - 5s 3ms/step - loss: 0.1523 - accuracy: 0.9417 - val_loss: 0.3452 - val_accuracy: 0.8978\n",
            "Epoch 24/30\n",
            "1719/1719 [==============================] - 5s 3ms/step - loss: 0.1479 - accuracy: 0.9438 - val_loss: 0.3847 - val_accuracy: 0.9012\n",
            "Epoch 25/30\n",
            "1719/1719 [==============================] - 5s 3ms/step - loss: 0.1424 - accuracy: 0.9441 - val_loss: 0.3847 - val_accuracy: 0.8878\n",
            "Epoch 26/30\n",
            "1719/1719 [==============================] - 6s 3ms/step - loss: 0.1392 - accuracy: 0.9468 - val_loss: 0.4189 - val_accuracy: 0.8950\n",
            "Epoch 27/30\n",
            "1719/1719 [==============================] - 5s 3ms/step - loss: 0.1378 - accuracy: 0.9470 - val_loss: 0.3716 - val_accuracy: 0.9022\n",
            "Epoch 28/30\n",
            "1719/1719 [==============================] - 5s 3ms/step - loss: 0.1343 - accuracy: 0.9488 - val_loss: 0.3942 - val_accuracy: 0.8910\n",
            "Epoch 29/30\n",
            "1719/1719 [==============================] - 5s 3ms/step - loss: 0.1269 - accuracy: 0.9505 - val_loss: 0.4139 - val_accuracy: 0.8874\n",
            "Epoch 30/30\n",
            "1719/1719 [==============================] - 5s 3ms/step - loss: 0.1298 - accuracy: 0.9499 - val_loss: 0.4071 - val_accuracy: 0.8932\n"
          ]
        },
        {
          "output_type": "display_data",
          "data": {
            "text/plain": [
              "<Figure size 576x360 with 1 Axes>"
            ],
            "image/png": "[encoded data removed]"
          },
          "metadata": {
            "needs_background": "light"
          }
        }
      ],
      "source": [
        "#1\n",
        "#Let's use Adam optimizer.\n",
        "model.compile(loss=\"sparse_categorical_crossentropy\",\n",
        "              optimizer=\"Adam\",\n",
        "              metrics=[\"accuracy\"])\n",
        "\n",
        "history = model.fit(X_train, y_train, batch_size=32, epochs=30,\n",
        "                    validation_data=(X_valid, y_valid))\n",
        "\n",
        "\n",
        "pd.DataFrame(history.history).plot(figsize=(8, 5))\n",
        "plt.grid(True)\n",
        "plt.gca().set_ylim(0, 1)\n",
        "plt.show()\n"
      ]
    },
    {
      "cell_type": "markdown",
      "source": [
        "We can see that Adam offers a better result on the training set with a loss fuction decreasing rapidly,but a much worse performance on the validation set wit an increasing val_loss. That's an overtraining issue."
      ],
      "metadata": {
        "id": "iVvV6RXmF3oH"
      }
    },
    {
      "cell_type": "code",
      "source": [
        "#2\n",
        "#Let's use batch_size =10.\n",
        "model.compile(loss=\"sparse_categorical_crossentropy\",\n",
        "              optimizer=\"sgd\",\n",
        "              metrics=[\"accuracy\"])\n",
        "\n",
        "history = model.fit(X_train, y_train, batch_size=10, epochs=30,\n",
        "                    validation_data=(X_valid, y_valid))\n",
        "\n",
        "\n",
        "pd.DataFrame(history.history).plot(figsize=(8, 5))\n",
        "plt.grid(True)\n",
        "plt.gca().set_ylim(0, 1)\n",
        "plt.show()\n"
      ],
      "metadata": {
        "id": "F9MYqMwIR-MO",
        "colab": {
          "base_uri": "https://localhost:8080/",
          "height": 1000
        },
        "outputId": "809123d6-5ccb-462a-c10a-b758c643a98d"
      },
      "execution_count": 41,
      "outputs": [
        {
          "output_type": "stream",
          "name": "stdout",
          "text": [
            "Epoch 1/30\n",
            "5500/5500 [==============================] - 13s 2ms/step - loss: 0.0856 - accuracy: 0.9669 - val_loss: 0.4052 - val_accuracy: 0.9014\n",
            "Epoch 2/30\n",
            "5500/5500 [==============================] - 14s 2ms/step - loss: 0.0774 - accuracy: 0.9696 - val_loss: 0.4328 - val_accuracy: 0.9004\n",
            "Epoch 3/30\n",
            "5500/5500 [==============================] - 14s 2ms/step - loss: 0.0743 - accuracy: 0.9712 - val_loss: 0.4368 - val_accuracy: 0.9000\n",
            "Epoch 4/30\n",
            "5500/5500 [==============================] - 13s 2ms/step - loss: 0.0720 - accuracy: 0.9722 - val_loss: 0.4317 - val_accuracy: 0.9032\n",
            "Epoch 5/30\n",
            "5500/5500 [==============================] - 13s 2ms/step - loss: 0.0699 - accuracy: 0.9724 - val_loss: 0.4366 - val_accuracy: 0.9004\n",
            "Epoch 6/30\n",
            "5500/5500 [==============================] - 13s 2ms/step - loss: 0.0681 - accuracy: 0.9732 - val_loss: 0.4524 - val_accuracy: 0.9018\n",
            "Epoch 7/30\n",
            "5500/5500 [==============================] - 13s 2ms/step - loss: 0.0660 - accuracy: 0.9748 - val_loss: 0.4587 - val_accuracy: 0.9008\n",
            "Epoch 8/30\n",
            "5500/5500 [==============================] - 13s 2ms/step - loss: 0.0649 - accuracy: 0.9752 - val_loss: 0.4620 - val_accuracy: 0.9026\n",
            "Epoch 9/30\n",
            "5500/5500 [==============================] - 14s 2ms/step - loss: 0.0633 - accuracy: 0.9761 - val_loss: 0.4698 - val_accuracy: 0.9012\n",
            "Epoch 10/30\n",
            "5500/5500 [==============================] - 13s 2ms/step - loss: 0.0617 - accuracy: 0.9771 - val_loss: 0.4699 - val_accuracy: 0.9018\n",
            "Epoch 11/30\n",
            "5500/5500 [==============================] - 13s 2ms/step - loss: 0.0605 - accuracy: 0.9769 - val_loss: 0.4811 - val_accuracy: 0.9000\n",
            "Epoch 12/30\n",
            "5500/5500 [==============================] - 13s 2ms/step - loss: 0.0592 - accuracy: 0.9771 - val_loss: 0.4839 - val_accuracy: 0.8986\n",
            "Epoch 13/30\n",
            "5500/5500 [==============================] - 13s 2ms/step - loss: 0.0577 - accuracy: 0.9780 - val_loss: 0.4978 - val_accuracy: 0.8980\n",
            "Epoch 14/30\n",
            "5500/5500 [==============================] - 13s 2ms/step - loss: 0.0565 - accuracy: 0.9784 - val_loss: 0.4968 - val_accuracy: 0.9008\n",
            "Epoch 15/30\n",
            "5500/5500 [==============================] - 13s 2ms/step - loss: 0.0550 - accuracy: 0.9794 - val_loss: 0.5068 - val_accuracy: 0.8992\n",
            "Epoch 16/30\n",
            "5500/5500 [==============================] - 13s 2ms/step - loss: 0.0546 - accuracy: 0.9797 - val_loss: 0.5189 - val_accuracy: 0.8994\n",
            "Epoch 17/30\n",
            "5500/5500 [==============================] - 13s 2ms/step - loss: 0.0532 - accuracy: 0.9802 - val_loss: 0.5200 - val_accuracy: 0.9002\n",
            "Epoch 18/30\n",
            "5500/5500 [==============================] - 13s 2ms/step - loss: 0.0527 - accuracy: 0.9796 - val_loss: 0.5421 - val_accuracy: 0.9000\n",
            "Epoch 19/30\n",
            "5500/5500 [==============================] - 14s 2ms/step - loss: 0.0512 - accuracy: 0.9807 - val_loss: 0.5436 - val_accuracy: 0.8986\n",
            "Epoch 20/30\n",
            "5500/5500 [==============================] - 13s 2ms/step - loss: 0.0499 - accuracy: 0.9818 - val_loss: 0.5317 - val_accuracy: 0.8976\n",
            "Epoch 21/30\n",
            "5500/5500 [==============================] - 14s 2ms/step - loss: 0.0488 - accuracy: 0.9824 - val_loss: 0.5380 - val_accuracy: 0.8986\n",
            "Epoch 22/30\n",
            "5500/5500 [==============================] - 13s 2ms/step - loss: 0.0481 - accuracy: 0.9824 - val_loss: 0.5472 - val_accuracy: 0.8968\n",
            "Epoch 23/30\n",
            "5500/5500 [==============================] - 13s 2ms/step - loss: 0.0465 - accuracy: 0.9828 - val_loss: 0.5580 - val_accuracy: 0.8964\n",
            "Epoch 24/30\n",
            "5500/5500 [==============================] - 14s 2ms/step - loss: 0.0463 - accuracy: 0.9834 - val_loss: 0.5690 - val_accuracy: 0.9004\n",
            "Epoch 25/30\n",
            "5500/5500 [==============================] - 13s 2ms/step - loss: 0.0447 - accuracy: 0.9837 - val_loss: 0.5666 - val_accuracy: 0.8994\n",
            "Epoch 26/30\n",
            "5500/5500 [==============================] - 14s 2ms/step - loss: 0.0442 - accuracy: 0.9839 - val_loss: 0.5801 - val_accuracy: 0.9012\n",
            "Epoch 27/30\n",
            "5500/5500 [==============================] - 14s 2ms/step - loss: 0.0434 - accuracy: 0.9838 - val_loss: 0.5810 - val_accuracy: 0.8980\n",
            "Epoch 28/30\n",
            "5500/5500 [==============================] - 14s 2ms/step - loss: 0.0423 - accuracy: 0.9849 - val_loss: 0.5947 - val_accuracy: 0.9000\n",
            "Epoch 29/30\n",
            "5500/5500 [==============================] - 13s 2ms/step - loss: 0.0417 - accuracy: 0.9850 - val_loss: 0.5922 - val_accuracy: 0.8982\n",
            "Epoch 30/30\n",
            "5500/5500 [==============================] - 13s 2ms/step - loss: 0.0403 - accuracy: 0.9854 - val_loss: 0.5978 - val_accuracy: 0.9000\n"
          ]
        },
        {
          "output_type": "display_data",
          "data": {
            "text/plain": [
              "<Figure size 576x360 with 1 Axes>"
            ],
            "image/png": "[encoded data removed]"
          },
          "metadata": {
            "needs_background": "light"
          }
        }
      ]
    },
    {
      "cell_type": "markdown",
      "source": [
        "We can see that the smaller batch size causes overtraining."
      ],
      "metadata": {
        "id": "cwpCoXZHHBup"
      }
    },
    {
      "cell_type": "code",
      "source": [
        "#3\n",
        "#epochs=15\n",
        "history = model.fit(X_train, y_train, batch_size=32, epochs=15,\n",
        "                    validation_data=(X_valid, y_valid))\n",
        "\n",
        "\n",
        "pd.DataFrame(history.history).plot(figsize=(8, 5))\n",
        "plt.grid(True)\n",
        "plt.gca().set_ylim(0, 1)\n",
        "plt.show()"
      ],
      "metadata": {
        "colab": {
          "base_uri": "https://localhost:8080/",
          "height": 849
        },
        "id": "pgEpMEKMYGsU",
        "outputId": "adf9f659-2dc0-4d85-f464-d4ac94247043"
      },
      "execution_count": 42,
      "outputs": [
        {
          "output_type": "stream",
          "name": "stdout",
          "text": [
            "Epoch 1/15\n",
            "1719/1719 [==============================] - 6s 3ms/step - loss: 0.0337 - accuracy: 0.9892 - val_loss: 0.6071 - val_accuracy: 0.8992\n",
            "Epoch 2/15\n",
            "1719/1719 [==============================] - 6s 3ms/step - loss: 0.0328 - accuracy: 0.9893 - val_loss: 0.6069 - val_accuracy: 0.9008\n",
            "Epoch 3/15\n",
            "1719/1719 [==============================] - 6s 3ms/step - loss: 0.0325 - accuracy: 0.9895 - val_loss: 0.6121 - val_accuracy: 0.8996\n",
            "Epoch 4/15\n",
            "1719/1719 [==============================] - 6s 3ms/step - loss: 0.0321 - accuracy: 0.9898 - val_loss: 0.6175 - val_accuracy: 0.8984\n",
            "Epoch 5/15\n",
            "1719/1719 [==============================] - 6s 3ms/step - loss: 0.0317 - accuracy: 0.9901 - val_loss: 0.6145 - val_accuracy: 0.9014\n",
            "Epoch 6/15\n",
            "1719/1719 [==============================] - 6s 3ms/step - loss: 0.0315 - accuracy: 0.9901 - val_loss: 0.6160 - val_accuracy: 0.9000\n",
            "Epoch 7/15\n",
            "1719/1719 [==============================] - 6s 3ms/step - loss: 0.0311 - accuracy: 0.9902 - val_loss: 0.6254 - val_accuracy: 0.9008\n",
            "Epoch 8/15\n",
            "1719/1719 [==============================] - 6s 3ms/step - loss: 0.0308 - accuracy: 0.9905 - val_loss: 0.6263 - val_accuracy: 0.8994\n",
            "Epoch 9/15\n",
            "1719/1719 [==============================] - 6s 3ms/step - loss: 0.0305 - accuracy: 0.9905 - val_loss: 0.6260 - val_accuracy: 0.9008\n",
            "Epoch 10/15\n",
            "1719/1719 [==============================] - 6s 3ms/step - loss: 0.0302 - accuracy: 0.9908 - val_loss: 0.6264 - val_accuracy: 0.8998\n",
            "Epoch 11/15\n",
            "1719/1719 [==============================] - 6s 3ms/step - loss: 0.0298 - accuracy: 0.9909 - val_loss: 0.6327 - val_accuracy: 0.9002\n",
            "Epoch 12/15\n",
            "1719/1719 [==============================] - 6s 3ms/step - loss: 0.0297 - accuracy: 0.9909 - val_loss: 0.6374 - val_accuracy: 0.9012\n",
            "Epoch 13/15\n",
            "1719/1719 [==============================] - 6s 3ms/step - loss: 0.0294 - accuracy: 0.9911 - val_loss: 0.6392 - val_accuracy: 0.9000\n",
            "Epoch 14/15\n",
            "1719/1719 [==============================] - 6s 3ms/step - loss: 0.0292 - accuracy: 0.9911 - val_loss: 0.6378 - val_accuracy: 0.8998\n",
            "Epoch 15/15\n",
            "1719/1719 [==============================] - 6s 3ms/step - loss: 0.0288 - accuracy: 0.9909 - val_loss: 0.6393 - val_accuracy: 0.9020\n"
          ]
        },
        {
          "output_type": "display_data",
          "data": {
            "text/plain": [
              "<Figure size 576x360 with 1 Axes>"
            ],
            "image/png": "[encoded data removed]"
          },
          "metadata": {
            "needs_background": "light"
          }
        }
      ]
    },
    {
      "cell_type": "markdown",
      "source": [
        "We can notice that the model does'nt train at all."
      ],
      "metadata": {
        "id": "3WR_ohJ8HX9x"
      }
    },
    {
      "cell_type": "code",
      "source": [
        "#Let's create a new model with more layers.\n",
        "model2 = keras.models.Sequential([\n",
        "    keras.layers.Flatten(input_shape=[28, 28]),\n",
        "    keras.layers.Dense(300, activation=\"relu\"),\n",
        "    keras.layers.Dense(100, activation=\"relu\"),\n",
        "    keras.layers.Dense(100, activation=\"relu\"),\n",
        "    keras.layers.Dense(100, activation=\"relu\"),\n",
        "    keras.layers.Dense(10, activation=\"softmax\")\n",
        "])\n",
        "model2.compile(loss=\"sparse_categorical_crossentropy\",\n",
        "              optimizer=\"sgd\",\n",
        "              metrics=[\"accuracy\"])\n",
        "\n",
        "history2 = model2.fit(X_train, y_train, batch_size=32, epochs=30,\n",
        "                    validation_data=(X_valid, y_valid))\n",
        "\n",
        "\n",
        "pd.DataFrame(history2.history).plot(figsize=(8, 5))\n",
        "plt.grid(True)\n",
        "plt.gca().set_ylim(0, 1)\n",
        "plt.show()\n"
      ],
      "metadata": {
        "colab": {
          "base_uri": "https://localhost:8080/",
          "height": 1000
        },
        "id": "V-J0cxUgZ8zS",
        "outputId": "0e2e2be2-2e4c-4f60-8b73-90cc89610234"
      },
      "execution_count": 43,
      "outputs": [
        {
          "output_type": "stream",
          "name": "stdout",
          "text": [
            "Epoch 1/30\n",
            "1719/1719 [==============================] - 6s 3ms/step - loss: 0.7554 - accuracy: 0.7382 - val_loss: 0.4879 - val_accuracy: 0.8324\n",
            "Epoch 2/30\n",
            "1719/1719 [==============================] - 5s 3ms/step - loss: 0.4760 - accuracy: 0.8308 - val_loss: 0.4188 - val_accuracy: 0.8596\n",
            "Epoch 3/30\n",
            "1719/1719 [==============================] - 5s 3ms/step - loss: 0.4229 - accuracy: 0.8485 - val_loss: 0.3937 - val_accuracy: 0.8646\n",
            "Epoch 4/30\n",
            "1719/1719 [==============================] - 5s 3ms/step - loss: 0.3932 - accuracy: 0.8591 - val_loss: 0.3848 - val_accuracy: 0.8608\n",
            "Epoch 5/30\n",
            "1719/1719 [==============================] - 5s 3ms/step - loss: 0.3692 - accuracy: 0.8679 - val_loss: 0.3729 - val_accuracy: 0.8662\n",
            "Epoch 6/30\n",
            "1719/1719 [==============================] - 5s 3ms/step - loss: 0.3526 - accuracy: 0.8722 - val_loss: 0.3502 - val_accuracy: 0.8752\n",
            "Epoch 7/30\n",
            "1719/1719 [==============================] - 5s 3ms/step - loss: 0.3363 - accuracy: 0.8781 - val_loss: 0.3488 - val_accuracy: 0.8770\n",
            "Epoch 8/30\n",
            "1719/1719 [==============================] - 5s 3ms/step - loss: 0.3257 - accuracy: 0.8812 - val_loss: 0.3446 - val_accuracy: 0.8792\n",
            "Epoch 9/30\n",
            "1719/1719 [==============================] - 5s 3ms/step - loss: 0.3137 - accuracy: 0.8852 - val_loss: 0.3270 - val_accuracy: 0.8838\n",
            "Epoch 10/30\n",
            "1719/1719 [==============================] - 5s 3ms/step - loss: 0.3026 - accuracy: 0.8896 - val_loss: 0.3275 - val_accuracy: 0.8840\n",
            "Epoch 11/30\n",
            "1719/1719 [==============================] - 5s 3ms/step - loss: 0.2948 - accuracy: 0.8922 - val_loss: 0.3329 - val_accuracy: 0.8766\n",
            "Epoch 12/30\n",
            "1719/1719 [==============================] - 5s 3ms/step - loss: 0.2857 - accuracy: 0.8942 - val_loss: 0.3399 - val_accuracy: 0.8782\n",
            "Epoch 13/30\n",
            "1719/1719 [==============================] - 5s 3ms/step - loss: 0.2780 - accuracy: 0.8966 - val_loss: 0.3132 - val_accuracy: 0.8886\n",
            "Epoch 14/30\n",
            "1719/1719 [==============================] - 5s 3ms/step - loss: 0.2684 - accuracy: 0.9009 - val_loss: 0.3432 - val_accuracy: 0.8776\n",
            "Epoch 15/30\n",
            "1719/1719 [==============================] - 5s 3ms/step - loss: 0.2628 - accuracy: 0.9024 - val_loss: 0.3373 - val_accuracy: 0.8754\n",
            "Epoch 16/30\n",
            "1719/1719 [==============================] - 5s 3ms/step - loss: 0.2546 - accuracy: 0.9065 - val_loss: 0.3392 - val_accuracy: 0.8838\n",
            "Epoch 17/30\n",
            "1719/1719 [==============================] - 5s 3ms/step - loss: 0.2493 - accuracy: 0.9066 - val_loss: 0.3112 - val_accuracy: 0.8894\n",
            "Epoch 18/30\n",
            "1719/1719 [==============================] - 5s 3ms/step - loss: 0.2436 - accuracy: 0.9100 - val_loss: 0.3089 - val_accuracy: 0.8892\n",
            "Epoch 19/30\n",
            "1719/1719 [==============================] - 5s 3ms/step - loss: 0.2361 - accuracy: 0.9130 - val_loss: 0.3077 - val_accuracy: 0.8900\n",
            "Epoch 20/30\n",
            "1719/1719 [==============================] - 5s 3ms/step - loss: 0.2309 - accuracy: 0.9133 - val_loss: 0.3422 - val_accuracy: 0.8796\n",
            "Epoch 21/30\n",
            "1719/1719 [==============================] - 5s 3ms/step - loss: 0.2265 - accuracy: 0.9157 - val_loss: 0.3023 - val_accuracy: 0.8908\n",
            "Epoch 22/30\n",
            "1719/1719 [==============================] - 5s 3ms/step - loss: 0.2207 - accuracy: 0.9184 - val_loss: 0.2927 - val_accuracy: 0.8948\n",
            "Epoch 23/30\n",
            "1719/1719 [==============================] - 5s 3ms/step - loss: 0.2149 - accuracy: 0.9208 - val_loss: 0.3290 - val_accuracy: 0.8862\n",
            "Epoch 24/30\n",
            "1719/1719 [==============================] - 5s 3ms/step - loss: 0.2106 - accuracy: 0.9221 - val_loss: 0.2925 - val_accuracy: 0.8954\n",
            "Epoch 25/30\n",
            "1719/1719 [==============================] - 5s 3ms/step - loss: 0.2065 - accuracy: 0.9239 - val_loss: 0.3013 - val_accuracy: 0.8970\n",
            "Epoch 26/30\n",
            "1719/1719 [==============================] - 5s 3ms/step - loss: 0.2013 - accuracy: 0.9251 - val_loss: 0.3170 - val_accuracy: 0.8896\n",
            "Epoch 27/30\n",
            "1719/1719 [==============================] - 5s 3ms/step - loss: 0.1967 - accuracy: 0.9277 - val_loss: 0.2996 - val_accuracy: 0.8936\n",
            "Epoch 28/30\n",
            "1719/1719 [==============================] - 5s 3ms/step - loss: 0.1931 - accuracy: 0.9285 - val_loss: 0.3458 - val_accuracy: 0.8842\n",
            "Epoch 29/30\n",
            "1719/1719 [==============================] - 5s 3ms/step - loss: 0.1879 - accuracy: 0.9302 - val_loss: 0.3104 - val_accuracy: 0.8958\n",
            "Epoch 30/30\n",
            "1719/1719 [==============================] - 5s 3ms/step - loss: 0.1846 - accuracy: 0.9310 - val_loss: 0.3300 - val_accuracy: 0.8956\n"
          ]
        },
        {
          "output_type": "display_data",
          "data": {
            "text/plain": [
              "<Figure size 576x360 with 1 Axes>"
            ],
            "image/png": "[encoded data removed]"
          },
          "metadata": {
            "needs_background": "light"
          }
        }
      ]
    },
    {
      "cell_type": "markdown",
      "source": [
        "Adding more layers caused overtraining."
      ],
      "metadata": {
        "id": "Mb5x7XlAIYaK"
      }
    },
    {
      "cell_type": "code",
      "source": [
        "#Let's add a dropout layer.\n",
        "model2 = keras.models.Sequential([\n",
        "    keras.layers.Flatten(input_shape=[28, 28]),\n",
        "    keras.layers.Dense(300, activation=\"relu\"),\n",
        "    keras.layers.Dense(100, activation=\"relu\"),\n",
        "    keras.layers.Dense(100, activation=\"relu\"),\n",
        "    keras.layers.Dropout(0.4),\n",
        "    keras.layers.Dense(100, activation=\"relu\"),\n",
        "    keras.layers.Dense(10, activation=\"softmax\")\n",
        "])\n",
        "model2.compile(loss=\"sparse_categorical_crossentropy\",\n",
        "              optimizer=\"sgd\",\n",
        "              metrics=[\"accuracy\"])\n",
        "\n",
        "history2 = model2.fit(X_train, y_train, batch_size=32, epochs=30,\n",
        "                    validation_data=(X_valid, y_valid))\n",
        "\n",
        "\n",
        "pd.DataFrame(history2.history).plot(figsize=(8, 5))\n",
        "plt.grid(True)\n",
        "plt.gca().set_ylim(0, 1)\n",
        "plt.show()\n",
        "\n"
      ],
      "metadata": {
        "colab": {
          "base_uri": "https://localhost:8080/",
          "height": 1000
        },
        "id": "nFLEUNlV0a_6",
        "outputId": "28431b97-3942-4997-ca25-249ecfdbfc40"
      },
      "execution_count": 45,
      "outputs": [
        {
          "output_type": "stream",
          "name": "stdout",
          "text": [
            "Epoch 1/30\n",
            "1719/1719 [==============================] - 6s 3ms/step - loss: 0.9217 - accuracy: 0.6760 - val_loss: 0.5182 - val_accuracy: 0.8166\n",
            "Epoch 2/30\n",
            "1719/1719 [==============================] - 5s 3ms/step - loss: 0.5588 - accuracy: 0.8021 - val_loss: 0.4954 - val_accuracy: 0.8182\n",
            "Epoch 3/30\n",
            "1719/1719 [==============================] - 5s 3ms/step - loss: 0.4887 - accuracy: 0.8281 - val_loss: 0.4394 - val_accuracy: 0.8352\n",
            "Epoch 4/30\n",
            "1719/1719 [==============================] - 5s 3ms/step - loss: 0.4483 - accuracy: 0.8412 - val_loss: 0.3758 - val_accuracy: 0.8674\n",
            "Epoch 5/30\n",
            "1719/1719 [==============================] - 5s 3ms/step - loss: 0.4247 - accuracy: 0.8499 - val_loss: 0.3739 - val_accuracy: 0.8678\n",
            "Epoch 6/30\n",
            "1719/1719 [==============================] - 5s 3ms/step - loss: 0.4025 - accuracy: 0.8574 - val_loss: 0.3725 - val_accuracy: 0.8668\n",
            "Epoch 7/30\n",
            "1719/1719 [==============================] - 5s 3ms/step - loss: 0.3857 - accuracy: 0.8624 - val_loss: 0.3570 - val_accuracy: 0.8706\n",
            "Epoch 8/30\n",
            "1719/1719 [==============================] - 5s 3ms/step - loss: 0.3702 - accuracy: 0.8671 - val_loss: 0.3558 - val_accuracy: 0.8680\n",
            "Epoch 9/30\n",
            "1719/1719 [==============================] - 5s 3ms/step - loss: 0.3587 - accuracy: 0.8718 - val_loss: 0.3319 - val_accuracy: 0.8776\n",
            "Epoch 10/30\n",
            "1719/1719 [==============================] - 5s 3ms/step - loss: 0.3472 - accuracy: 0.8752 - val_loss: 0.3431 - val_accuracy: 0.8750\n",
            "Epoch 11/30\n",
            "1719/1719 [==============================] - 5s 3ms/step - loss: 0.3405 - accuracy: 0.8775 - val_loss: 0.3337 - val_accuracy: 0.8838\n",
            "Epoch 12/30\n",
            "1719/1719 [==============================] - 8s 4ms/step - loss: 0.3286 - accuracy: 0.8815 - val_loss: 0.3229 - val_accuracy: 0.8838\n",
            "Epoch 13/30\n",
            "1719/1719 [==============================] - 7s 4ms/step - loss: 0.3191 - accuracy: 0.8853 - val_loss: 0.3260 - val_accuracy: 0.8796\n",
            "Epoch 14/30\n",
            "1719/1719 [==============================] - 6s 4ms/step - loss: 0.3134 - accuracy: 0.8861 - val_loss: 0.3202 - val_accuracy: 0.8836\n",
            "Epoch 15/30\n",
            "1719/1719 [==============================] - 5s 3ms/step - loss: 0.3051 - accuracy: 0.8887 - val_loss: 0.3155 - val_accuracy: 0.8896\n",
            "Epoch 16/30\n",
            "1719/1719 [==============================] - 5s 3ms/step - loss: 0.2996 - accuracy: 0.8917 - val_loss: 0.3206 - val_accuracy: 0.8854\n",
            "Epoch 17/30\n",
            "1719/1719 [==============================] - 5s 3ms/step - loss: 0.2938 - accuracy: 0.8938 - val_loss: 0.3169 - val_accuracy: 0.8852\n",
            "Epoch 18/30\n",
            "1719/1719 [==============================] - 5s 3ms/step - loss: 0.2888 - accuracy: 0.8939 - val_loss: 0.3095 - val_accuracy: 0.8860\n",
            "Epoch 19/30\n",
            "1719/1719 [==============================] - 5s 3ms/step - loss: 0.2806 - accuracy: 0.8973 - val_loss: 0.3061 - val_accuracy: 0.8898\n",
            "Epoch 20/30\n",
            "1719/1719 [==============================] - 5s 3ms/step - loss: 0.2757 - accuracy: 0.8987 - val_loss: 0.3128 - val_accuracy: 0.8888\n",
            "Epoch 21/30\n",
            "1719/1719 [==============================] - 5s 3ms/step - loss: 0.2690 - accuracy: 0.9018 - val_loss: 0.3110 - val_accuracy: 0.8876\n",
            "Epoch 22/30\n",
            "1719/1719 [==============================] - 5s 3ms/step - loss: 0.2640 - accuracy: 0.9040 - val_loss: 0.3162 - val_accuracy: 0.8878\n",
            "Epoch 23/30\n",
            "1719/1719 [==============================] - 5s 3ms/step - loss: 0.2581 - accuracy: 0.9053 - val_loss: 0.3115 - val_accuracy: 0.8872\n",
            "Epoch 24/30\n",
            "1719/1719 [==============================] - 5s 3ms/step - loss: 0.2537 - accuracy: 0.9065 - val_loss: 0.3098 - val_accuracy: 0.8906\n",
            "Epoch 25/30\n",
            "1719/1719 [==============================] - 5s 3ms/step - loss: 0.2484 - accuracy: 0.9090 - val_loss: 0.2979 - val_accuracy: 0.8934\n",
            "Epoch 26/30\n",
            "1719/1719 [==============================] - 5s 3ms/step - loss: 0.2447 - accuracy: 0.9094 - val_loss: 0.3183 - val_accuracy: 0.8902\n",
            "Epoch 27/30\n",
            "1719/1719 [==============================] - 5s 3ms/step - loss: 0.2388 - accuracy: 0.9130 - val_loss: 0.3161 - val_accuracy: 0.8934\n",
            "Epoch 28/30\n",
            "1719/1719 [==============================] - 5s 3ms/step - loss: 0.2339 - accuracy: 0.9135 - val_loss: 0.3058 - val_accuracy: 0.8920\n",
            "Epoch 29/30\n",
            "1719/1719 [==============================] - 5s 3ms/step - loss: 0.2317 - accuracy: 0.9142 - val_loss: 0.3125 - val_accuracy: 0.8890\n",
            "Epoch 30/30\n",
            "1719/1719 [==============================] - 5s 3ms/step - loss: 0.2276 - accuracy: 0.9161 - val_loss: 0.3148 - val_accuracy: 0.8890\n"
          ]
        },
        {
          "output_type": "display_data",
          "data": {
            "text/plain": [
              "<Figure size 576x360 with 1 Axes>"
            ],
            "image/png": "[encoded data removed]"
          },
          "metadata": {
            "needs_background": "light"
          }
        }
      ]
    },
    {
      "cell_type": "markdown",
      "source": [
        "Adding a dropout layer has improved the model."
      ],
      "metadata": {
        "id": "W0goKFspIbr6"
      }
    },
    {
      "cell_type": "code",
      "source": [
        ""
      ],
      "metadata": {
        "id": "2cqTQpeW-gD0"
      },
      "execution_count": null,
      "outputs": []
    },
    {
      "cell_type": "code",
      "source": [
        "#5\n",
        "#Let's use batch normalisation.\n",
        "model2 = keras.models.Sequential([\n",
        "    keras.layers.Flatten(input_shape=[28, 28]),\n",
        "    keras.layers.Dense(300, activation=\"relu\"),\n",
        "    keras.layers.Dense(100, activation=\"relu\"),\n",
        "    keras.layers.BatchNormalization(axis=1),\n",
        "    keras.layers.Dense(100, activation=\"relu\"),\n",
        "    keras.layers.Dropout(0.4),\n",
        "    keras.layers.Dense(100, activation=\"relu\"),\n",
        "    keras.layers.Dense(10, activation=\"softmax\")\n",
        "])\n",
        "model2.compile(loss=\"sparse_categorical_crossentropy\",\n",
        "              optimizer=\"sgd\",\n",
        "              metrics=[\"accuracy\"])\n",
        "\n",
        "history2 = model2.fit(X_train, y_train, batch_size=32, epochs=30,\n",
        "                    validation_data=(X_valid, y_valid))\n",
        "\n",
        "\n",
        "pd.DataFrame(history2.history).plot(figsize=(8, 5))\n",
        "plt.grid(True)\n",
        "plt.gca().set_ylim(0, 1)\n",
        "plt.show()\n",
        "\n"
      ],
      "metadata": {
        "colab": {
          "base_uri": "https://localhost:8080/",
          "height": 1000
        },
        "id": "Bs-Zc-gM8Jgo",
        "outputId": "c93012f1-46a4-43b4-fbf7-bf6032aad384"
      },
      "execution_count": 47,
      "outputs": [
        {
          "output_type": "stream",
          "name": "stdout",
          "text": [
            "Epoch 1/30\n",
            "1719/1719 [==============================] - 6s 3ms/step - loss: 0.7125 - accuracy: 0.7591 - val_loss: 0.4285 - val_accuracy: 0.8532\n",
            "Epoch 2/30\n",
            "1719/1719 [==============================] - 6s 3ms/step - loss: 0.4806 - accuracy: 0.8303 - val_loss: 0.4674 - val_accuracy: 0.8378\n",
            "Epoch 3/30\n",
            "1719/1719 [==============================] - 6s 3ms/step - loss: 0.4333 - accuracy: 0.8470 - val_loss: 0.3947 - val_accuracy: 0.8582\n",
            "Epoch 4/30\n",
            "1719/1719 [==============================] - 6s 3ms/step - loss: 0.4060 - accuracy: 0.8565 - val_loss: 0.3656 - val_accuracy: 0.8656\n",
            "Epoch 5/30\n",
            "1719/1719 [==============================] - 6s 3ms/step - loss: 0.3803 - accuracy: 0.8648 - val_loss: 0.3541 - val_accuracy: 0.8742\n",
            "Epoch 6/30\n",
            "1719/1719 [==============================] - 6s 3ms/step - loss: 0.3619 - accuracy: 0.8698 - val_loss: 0.3626 - val_accuracy: 0.8702\n",
            "Epoch 7/30\n",
            "1719/1719 [==============================] - 6s 3ms/step - loss: 0.3517 - accuracy: 0.8732 - val_loss: 0.3532 - val_accuracy: 0.8720\n",
            "Epoch 8/30\n",
            "1719/1719 [==============================] - 6s 3ms/step - loss: 0.3355 - accuracy: 0.8777 - val_loss: 0.3340 - val_accuracy: 0.8810\n",
            "Epoch 9/30\n",
            "1719/1719 [==============================] - 6s 3ms/step - loss: 0.3244 - accuracy: 0.8825 - val_loss: 0.3327 - val_accuracy: 0.8810\n",
            "Epoch 10/30\n",
            "1719/1719 [==============================] - 6s 3ms/step - loss: 0.3161 - accuracy: 0.8855 - val_loss: 0.3367 - val_accuracy: 0.8820\n",
            "Epoch 11/30\n",
            "1719/1719 [==============================] - 6s 3ms/step - loss: 0.3060 - accuracy: 0.8882 - val_loss: 0.3160 - val_accuracy: 0.8898\n",
            "Epoch 12/30\n",
            "1719/1719 [==============================] - 6s 3ms/step - loss: 0.2996 - accuracy: 0.8903 - val_loss: 0.3341 - val_accuracy: 0.8838\n",
            "Epoch 13/30\n",
            "1719/1719 [==============================] - 6s 3ms/step - loss: 0.2906 - accuracy: 0.8946 - val_loss: 0.3286 - val_accuracy: 0.8846\n",
            "Epoch 14/30\n",
            "1719/1719 [==============================] - 6s 3ms/step - loss: 0.2842 - accuracy: 0.8961 - val_loss: 0.3018 - val_accuracy: 0.8900\n",
            "Epoch 15/30\n",
            "1719/1719 [==============================] - 6s 3ms/step - loss: 0.2757 - accuracy: 0.8984 - val_loss: 0.3373 - val_accuracy: 0.8836\n",
            "Epoch 16/30\n",
            "1719/1719 [==============================] - 6s 3ms/step - loss: 0.2693 - accuracy: 0.9022 - val_loss: 0.3267 - val_accuracy: 0.8798\n",
            "Epoch 17/30\n",
            "1719/1719 [==============================] - 6s 3ms/step - loss: 0.2661 - accuracy: 0.9021 - val_loss: 0.3146 - val_accuracy: 0.8926\n",
            "Epoch 18/30\n",
            "1719/1719 [==============================] - 6s 3ms/step - loss: 0.2615 - accuracy: 0.9032 - val_loss: 0.3586 - val_accuracy: 0.8792\n",
            "Epoch 19/30\n",
            "1719/1719 [==============================] - 6s 3ms/step - loss: 0.2529 - accuracy: 0.9066 - val_loss: 0.3437 - val_accuracy: 0.8828\n",
            "Epoch 20/30\n",
            "1719/1719 [==============================] - 6s 3ms/step - loss: 0.2494 - accuracy: 0.9083 - val_loss: 0.3334 - val_accuracy: 0.8902\n",
            "Epoch 21/30\n",
            "1719/1719 [==============================] - 6s 3ms/step - loss: 0.2459 - accuracy: 0.9090 - val_loss: 0.3344 - val_accuracy: 0.8802\n",
            "Epoch 22/30\n",
            "1719/1719 [==============================] - 6s 3ms/step - loss: 0.2390 - accuracy: 0.9127 - val_loss: 0.3021 - val_accuracy: 0.8948\n",
            "Epoch 23/30\n",
            "1719/1719 [==============================] - 6s 3ms/step - loss: 0.2360 - accuracy: 0.9124 - val_loss: 0.3304 - val_accuracy: 0.8836\n",
            "Epoch 24/30\n",
            "1719/1719 [==============================] - 6s 3ms/step - loss: 0.2322 - accuracy: 0.9137 - val_loss: 0.3535 - val_accuracy: 0.8854\n",
            "Epoch 25/30\n",
            "1719/1719 [==============================] - 6s 3ms/step - loss: 0.2281 - accuracy: 0.9148 - val_loss: 0.3666 - val_accuracy: 0.8744\n",
            "Epoch 26/30\n",
            "1719/1719 [==============================] - 6s 3ms/step - loss: 0.2253 - accuracy: 0.9164 - val_loss: 0.3161 - val_accuracy: 0.8962\n",
            "Epoch 27/30\n",
            "1719/1719 [==============================] - 6s 3ms/step - loss: 0.2196 - accuracy: 0.9180 - val_loss: 0.3198 - val_accuracy: 0.8876\n",
            "Epoch 28/30\n",
            "1719/1719 [==============================] - 6s 3ms/step - loss: 0.2166 - accuracy: 0.9191 - val_loss: 0.3181 - val_accuracy: 0.8902\n",
            "Epoch 29/30\n",
            "1719/1719 [==============================] - 6s 3ms/step - loss: 0.2126 - accuracy: 0.9212 - val_loss: 0.3148 - val_accuracy: 0.8896\n",
            "Epoch 30/30\n",
            "1719/1719 [==============================] - 6s 3ms/step - loss: 0.2069 - accuracy: 0.9239 - val_loss: 0.3356 - val_accuracy: 0.8920\n"
          ]
        },
        {
          "output_type": "display_data",
          "data": {
            "text/plain": [
              "<Figure size 576x360 with 1 Axes>"
            ],
            "image/png": "[encoded data removed]"
          },
          "metadata": {
            "needs_background": "light"
          }
        }
      ]
    },
    {
      "cell_type": "markdown",
      "source": [
        "Adding a BatchNormalization layer has caused overtraining."
      ],
      "metadata": {
        "id": "TKyl4g5aIOX2"
      }
    },
    {
      "cell_type": "markdown",
      "source": [
        ""
      ],
      "metadata": {
        "id": "QBZOb2NEIGbj"
      }
    },
    {
      "cell_type": "code",
      "source": [
        "#6\n",
        "#Let's add another batchNormalisation layer.\n",
        "model2 = keras.models.Sequential([\n",
        "    keras.layers.Flatten(input_shape=[28, 28]),\n",
        "    keras.layers.Dense(300, activation=\"relu\"),\n",
        "    keras.layers.BatchNormalization(axis=1),\n",
        "    keras.layers.Dense(100, activation=\"relu\"),\n",
        "    keras.layers.BatchNormalization(axis=1),\n",
        "    keras.layers.Dense(100, activation=\"relu\"),\n",
        "    keras.layers.Dropout(0.4),\n",
        "    keras.layers.Dense(100, activation=\"relu\"),\n",
        "    keras.layers.Dense(10, activation=\"softmax\")\n",
        "])\n",
        "model2.compile(loss=\"sparse_categorical_crossentropy\",\n",
        "              optimizer=\"sgd\",\n",
        "              metrics=[\"accuracy\"])\n",
        "\n",
        "history2 = model2.fit(X_train, y_train, batch_size=32, epochs=30,\n",
        "                    validation_data=(X_valid, y_valid))\n",
        "\n",
        "\n",
        "pd.DataFrame(history2.history).plot(figsize=(8, 5))\n",
        "plt.grid(True)\n",
        "plt.gca().set_ylim(0, 1)\n",
        "plt.show()\n"
      ],
      "metadata": {
        "colab": {
          "base_uri": "https://localhost:8080/",
          "height": 1000
        },
        "id": "S7iCFnFZ-ltq",
        "outputId": "e2c8dce8-5782-4a5b-9cdd-84e803dcdc43"
      },
      "execution_count": 48,
      "outputs": [
        {
          "output_type": "stream",
          "name": "stdout",
          "text": [
            "Epoch 1/30\n",
            "1719/1719 [==============================] - 7s 4ms/step - loss: 0.6984 - accuracy: 0.7624 - val_loss: 0.4163 - val_accuracy: 0.8486\n",
            "Epoch 2/30\n",
            "1719/1719 [==============================] - 6s 3ms/step - loss: 0.4826 - accuracy: 0.8306 - val_loss: 0.3921 - val_accuracy: 0.8562\n",
            "Epoch 3/30\n",
            "1719/1719 [==============================] - 6s 3ms/step - loss: 0.4331 - accuracy: 0.8464 - val_loss: 0.3405 - val_accuracy: 0.8780\n",
            "Epoch 4/30\n",
            "1719/1719 [==============================] - 6s 3ms/step - loss: 0.4013 - accuracy: 0.8573 - val_loss: 0.3421 - val_accuracy: 0.8744\n",
            "Epoch 5/30\n",
            "1719/1719 [==============================] - 6s 3ms/step - loss: 0.3845 - accuracy: 0.8626 - val_loss: 0.3349 - val_accuracy: 0.8806\n",
            "Epoch 6/30\n",
            "1719/1719 [==============================] - 6s 3ms/step - loss: 0.3646 - accuracy: 0.8679 - val_loss: 0.3269 - val_accuracy: 0.8798\n",
            "Epoch 7/30\n",
            "1719/1719 [==============================] - 6s 3ms/step - loss: 0.3477 - accuracy: 0.8752 - val_loss: 0.3257 - val_accuracy: 0.8826\n",
            "Epoch 8/30\n",
            "1719/1719 [==============================] - 7s 4ms/step - loss: 0.3402 - accuracy: 0.8773 - val_loss: 0.3331 - val_accuracy: 0.8802\n",
            "Epoch 9/30\n",
            "1719/1719 [==============================] - 6s 4ms/step - loss: 0.3319 - accuracy: 0.8774 - val_loss: 0.3142 - val_accuracy: 0.8872\n",
            "Epoch 10/30\n",
            "1719/1719 [==============================] - 6s 3ms/step - loss: 0.3187 - accuracy: 0.8835 - val_loss: 0.3241 - val_accuracy: 0.8876\n",
            "Epoch 11/30\n",
            "1719/1719 [==============================] - 6s 3ms/step - loss: 0.3119 - accuracy: 0.8861 - val_loss: 0.3148 - val_accuracy: 0.8840\n",
            "Epoch 12/30\n",
            "1719/1719 [==============================] - 6s 3ms/step - loss: 0.3070 - accuracy: 0.8883 - val_loss: 0.3003 - val_accuracy: 0.8928\n",
            "Epoch 13/30\n",
            "1719/1719 [==============================] - 6s 3ms/step - loss: 0.2973 - accuracy: 0.8908 - val_loss: 0.3235 - val_accuracy: 0.8868\n",
            "Epoch 14/30\n",
            "1719/1719 [==============================] - 6s 4ms/step - loss: 0.2928 - accuracy: 0.8931 - val_loss: 0.3288 - val_accuracy: 0.8818\n",
            "Epoch 15/30\n",
            "1719/1719 [==============================] - 6s 4ms/step - loss: 0.2879 - accuracy: 0.8945 - val_loss: 0.3439 - val_accuracy: 0.8778\n",
            "Epoch 16/30\n",
            "1719/1719 [==============================] - 6s 4ms/step - loss: 0.2856 - accuracy: 0.8957 - val_loss: 0.3020 - val_accuracy: 0.8934\n",
            "Epoch 17/30\n",
            "1719/1719 [==============================] - 6s 4ms/step - loss: 0.2802 - accuracy: 0.8974 - val_loss: 0.3082 - val_accuracy: 0.8936\n",
            "Epoch 18/30\n",
            "1719/1719 [==============================] - 6s 3ms/step - loss: 0.2749 - accuracy: 0.8971 - val_loss: 0.3161 - val_accuracy: 0.8916\n",
            "Epoch 19/30\n",
            "1719/1719 [==============================] - 6s 4ms/step - loss: 0.2645 - accuracy: 0.9028 - val_loss: 0.2971 - val_accuracy: 0.8958\n",
            "Epoch 20/30\n",
            "1719/1719 [==============================] - 6s 4ms/step - loss: 0.2604 - accuracy: 0.9047 - val_loss: 0.3205 - val_accuracy: 0.8890\n",
            "Epoch 21/30\n",
            "1719/1719 [==============================] - 6s 4ms/step - loss: 0.2530 - accuracy: 0.9064 - val_loss: 0.3041 - val_accuracy: 0.8970\n",
            "Epoch 22/30\n",
            "1719/1719 [==============================] - 6s 4ms/step - loss: 0.2549 - accuracy: 0.9063 - val_loss: 0.3210 - val_accuracy: 0.8890\n",
            "Epoch 23/30\n",
            "1719/1719 [==============================] - 6s 4ms/step - loss: 0.2546 - accuracy: 0.9061 - val_loss: 0.3004 - val_accuracy: 0.8966\n",
            "Epoch 24/30\n",
            "1719/1719 [==============================] - 6s 4ms/step - loss: 0.2482 - accuracy: 0.9078 - val_loss: 0.3115 - val_accuracy: 0.8916\n",
            "Epoch 25/30\n",
            "1719/1719 [==============================] - 6s 4ms/step - loss: 0.2476 - accuracy: 0.9081 - val_loss: 0.3213 - val_accuracy: 0.8868\n",
            "Epoch 26/30\n",
            "1719/1719 [==============================] - 6s 4ms/step - loss: 0.2414 - accuracy: 0.9105 - val_loss: 0.3117 - val_accuracy: 0.8954\n",
            "Epoch 27/30\n",
            "1719/1719 [==============================] - 6s 4ms/step - loss: 0.2392 - accuracy: 0.9107 - val_loss: 0.3166 - val_accuracy: 0.8928\n",
            "Epoch 28/30\n",
            "1719/1719 [==============================] - 6s 4ms/step - loss: 0.2393 - accuracy: 0.9107 - val_loss: 0.3013 - val_accuracy: 0.8960\n",
            "Epoch 29/30\n",
            "1719/1719 [==============================] - 6s 4ms/step - loss: 0.2302 - accuracy: 0.9143 - val_loss: 0.3084 - val_accuracy: 0.8940\n",
            "Epoch 30/30\n",
            "1719/1719 [==============================] - 6s 4ms/step - loss: 0.2276 - accuracy: 0.9154 - val_loss: 0.3286 - val_accuracy: 0.8868\n"
          ]
        },
        {
          "output_type": "display_data",
          "data": {
            "text/plain": [
              "<Figure size 576x360 with 1 Axes>"
            ],
            "image/png": "[encoded data removed]"
          },
          "metadata": {
            "needs_background": "light"
          }
        }
      ]
    },
    {
      "cell_type": "markdown",
      "source": [
        "Adding an additional BatchNormalization layer has suprisingly improved the model."
      ],
      "metadata": {
        "id": "0TvlLHDgI5jZ"
      }
    }
  ],
  "metadata": {
    "kernelspec": {
      "display_name": "Python 3",
      "language": "python",
      "name": "python3"
    },
    "language_info": {
      "codemirror_mode": {
        "name": "ipython",
        "version": 3
      },
      "file_extension": ".py",
      "mimetype": "text/x-python",
      "name": "python",
      "nbconvert_exporter": "python",
      "pygments_lexer": "ipython3",
      "version": "3.6.1"
    },
    "nav_menu": {
      "height": "264px",
      "width": "369px"
    },
    "toc": {
      "navigate_menu": true,
      "number_sections": true,
      "sideBar": true,
      "threshold": 6,
      "toc_cell": false,
      "toc_section_display": "block",
      "toc_window_display": false
    },
    "colab": {
      "name": "ZOUHDI_YASSINE_ANN_with_keras.ipynb",
      "provenance": [],
      "collapsed_sections": []
    }
  },
  "nbformat": 4,
  "nbformat_minor": 0
}